{
 "cells": [
  {
   "cell_type": "markdown",
   "id": "b4915d31-45f6-4b04-bc23-35dbe1b7bbfe",
   "metadata": {},
   "source": [
    "# Spotify Trend Prediction Model\n",
    "## Imports And Data Overview"
   ]
  },
  {
   "cell_type": "code",
   "execution_count": 1,
   "id": "90b0f97e-3619-4b84-87c1-3ab228bc803a",
   "metadata": {
    "tags": []
   },
   "outputs": [],
   "source": [
    "import pandas as pd\n",
    "from pandas import DataFrame\n",
    "import matplotlib.pyplot as plt\n",
    "from sklearn.linear_model import Ridge\n",
    "from sklearn.model_selection import RandomizedSearchCV\n",
    "from sklearn.metrics import mean_absolute_error, mean_squared_error, r2_score\n",
    "from sklearn.model_selection import learning_curve\n",
    "\n",
    "from sklearn.model_selection import train_test_split\n",
    "from sklearn.linear_model import LinearRegression\n",
    "import matplotlib.pyplot as plt\n",
    "\n",
    "import joblib\n",
    "import seaborn as sns\n",
    "import numpy as np\n",
    "import chardet"
   ]
  },
  {
   "cell_type": "code",
   "execution_count": 2,
   "id": "0b272629-9e7e-42f8-bf2d-b831a91d3143",
   "metadata": {
    "tags": []
   },
   "outputs": [
    {
     "name": "stdout",
     "output_type": "stream",
     "text": [
      "Total number of rows: 953\n"
     ]
    }
   ],
   "source": [
    "spotify_data = pd.read_csv(\"spotify_2023_utf.csv\")\n",
    "total_rows = spotify_data.shape[0]  # Extracting the number of rows from the shape attribute\n",
    "\n",
    "print(\"Total number of rows:\", total_rows)"
   ]
  },
  {
   "cell_type": "markdown",
   "id": "d60215db-6c87-46ee-850f-b4b7d98c2316",
   "metadata": {
    "tags": []
   },
   "source": [
    "### Overview"
   ]
  },
  {
   "cell_type": "code",
   "execution_count": 3,
   "id": "3fbda43b-b5a7-4235-bf05-3eb3cbf12e48",
   "metadata": {
    "tags": []
   },
   "outputs": [
    {
     "data": {
      "text/html": [
       "<div>\n",
       "<style scoped>\n",
       "    .dataframe tbody tr th:only-of-type {\n",
       "        vertical-align: middle;\n",
       "    }\n",
       "\n",
       "    .dataframe tbody tr th {\n",
       "        vertical-align: top;\n",
       "    }\n",
       "\n",
       "    .dataframe thead th {\n",
       "        text-align: right;\n",
       "    }\n",
       "</style>\n",
       "<table border=\"1\" class=\"dataframe\">\n",
       "  <thead>\n",
       "    <tr style=\"text-align: right;\">\n",
       "      <th></th>\n",
       "      <th>track_name</th>\n",
       "      <th>artist(s)_name</th>\n",
       "      <th>artist_count</th>\n",
       "      <th>released_year</th>\n",
       "      <th>released_month</th>\n",
       "      <th>released_day</th>\n",
       "      <th>in_spotify_playlists</th>\n",
       "      <th>in_spotify_charts</th>\n",
       "      <th>streams</th>\n",
       "      <th>in_apple_playlists</th>\n",
       "      <th>...</th>\n",
       "      <th>bpm</th>\n",
       "      <th>key</th>\n",
       "      <th>mode</th>\n",
       "      <th>danceability_%</th>\n",
       "      <th>valence_%</th>\n",
       "      <th>energy_%</th>\n",
       "      <th>acousticness_%</th>\n",
       "      <th>instrumentalness_%</th>\n",
       "      <th>liveness_%</th>\n",
       "      <th>speechiness_%</th>\n",
       "    </tr>\n",
       "  </thead>\n",
       "  <tbody>\n",
       "    <tr>\n",
       "      <th>0</th>\n",
       "      <td>Seven (feat. Latto) (Explicit Ver.)</td>\n",
       "      <td>Latto, Jung Kook</td>\n",
       "      <td>2</td>\n",
       "      <td>2023</td>\n",
       "      <td>7</td>\n",
       "      <td>14</td>\n",
       "      <td>553</td>\n",
       "      <td>147</td>\n",
       "      <td>141381703</td>\n",
       "      <td>43</td>\n",
       "      <td>...</td>\n",
       "      <td>125</td>\n",
       "      <td>B</td>\n",
       "      <td>Major</td>\n",
       "      <td>80</td>\n",
       "      <td>89</td>\n",
       "      <td>83</td>\n",
       "      <td>31</td>\n",
       "      <td>0</td>\n",
       "      <td>8</td>\n",
       "      <td>4</td>\n",
       "    </tr>\n",
       "    <tr>\n",
       "      <th>1</th>\n",
       "      <td>LALA</td>\n",
       "      <td>Myke Towers</td>\n",
       "      <td>1</td>\n",
       "      <td>2023</td>\n",
       "      <td>3</td>\n",
       "      <td>23</td>\n",
       "      <td>1474</td>\n",
       "      <td>48</td>\n",
       "      <td>133716286</td>\n",
       "      <td>48</td>\n",
       "      <td>...</td>\n",
       "      <td>92</td>\n",
       "      <td>C#</td>\n",
       "      <td>Major</td>\n",
       "      <td>71</td>\n",
       "      <td>61</td>\n",
       "      <td>74</td>\n",
       "      <td>7</td>\n",
       "      <td>0</td>\n",
       "      <td>10</td>\n",
       "      <td>4</td>\n",
       "    </tr>\n",
       "    <tr>\n",
       "      <th>2</th>\n",
       "      <td>vampire</td>\n",
       "      <td>Olivia Rodrigo</td>\n",
       "      <td>1</td>\n",
       "      <td>2023</td>\n",
       "      <td>6</td>\n",
       "      <td>30</td>\n",
       "      <td>1397</td>\n",
       "      <td>113</td>\n",
       "      <td>140003974</td>\n",
       "      <td>94</td>\n",
       "      <td>...</td>\n",
       "      <td>138</td>\n",
       "      <td>F</td>\n",
       "      <td>Major</td>\n",
       "      <td>51</td>\n",
       "      <td>32</td>\n",
       "      <td>53</td>\n",
       "      <td>17</td>\n",
       "      <td>0</td>\n",
       "      <td>31</td>\n",
       "      <td>6</td>\n",
       "    </tr>\n",
       "    <tr>\n",
       "      <th>3</th>\n",
       "      <td>Cruel Summer</td>\n",
       "      <td>Taylor Swift</td>\n",
       "      <td>1</td>\n",
       "      <td>2019</td>\n",
       "      <td>8</td>\n",
       "      <td>23</td>\n",
       "      <td>7858</td>\n",
       "      <td>100</td>\n",
       "      <td>800840817</td>\n",
       "      <td>116</td>\n",
       "      <td>...</td>\n",
       "      <td>170</td>\n",
       "      <td>A</td>\n",
       "      <td>Major</td>\n",
       "      <td>55</td>\n",
       "      <td>58</td>\n",
       "      <td>72</td>\n",
       "      <td>11</td>\n",
       "      <td>0</td>\n",
       "      <td>11</td>\n",
       "      <td>15</td>\n",
       "    </tr>\n",
       "    <tr>\n",
       "      <th>4</th>\n",
       "      <td>WHERE SHE GOES</td>\n",
       "      <td>Bad Bunny</td>\n",
       "      <td>1</td>\n",
       "      <td>2023</td>\n",
       "      <td>5</td>\n",
       "      <td>18</td>\n",
       "      <td>3133</td>\n",
       "      <td>50</td>\n",
       "      <td>303236322</td>\n",
       "      <td>84</td>\n",
       "      <td>...</td>\n",
       "      <td>144</td>\n",
       "      <td>A</td>\n",
       "      <td>Minor</td>\n",
       "      <td>65</td>\n",
       "      <td>23</td>\n",
       "      <td>80</td>\n",
       "      <td>14</td>\n",
       "      <td>63</td>\n",
       "      <td>11</td>\n",
       "      <td>6</td>\n",
       "    </tr>\n",
       "    <tr>\n",
       "      <th>...</th>\n",
       "      <td>...</td>\n",
       "      <td>...</td>\n",
       "      <td>...</td>\n",
       "      <td>...</td>\n",
       "      <td>...</td>\n",
       "      <td>...</td>\n",
       "      <td>...</td>\n",
       "      <td>...</td>\n",
       "      <td>...</td>\n",
       "      <td>...</td>\n",
       "      <td>...</td>\n",
       "      <td>...</td>\n",
       "      <td>...</td>\n",
       "      <td>...</td>\n",
       "      <td>...</td>\n",
       "      <td>...</td>\n",
       "      <td>...</td>\n",
       "      <td>...</td>\n",
       "      <td>...</td>\n",
       "      <td>...</td>\n",
       "      <td>...</td>\n",
       "    </tr>\n",
       "    <tr>\n",
       "      <th>948</th>\n",
       "      <td>My Mind &amp; Me</td>\n",
       "      <td>Selena Gomez</td>\n",
       "      <td>1</td>\n",
       "      <td>2022</td>\n",
       "      <td>11</td>\n",
       "      <td>3</td>\n",
       "      <td>953</td>\n",
       "      <td>0</td>\n",
       "      <td>91473363</td>\n",
       "      <td>61</td>\n",
       "      <td>...</td>\n",
       "      <td>144</td>\n",
       "      <td>A</td>\n",
       "      <td>Major</td>\n",
       "      <td>60</td>\n",
       "      <td>24</td>\n",
       "      <td>39</td>\n",
       "      <td>57</td>\n",
       "      <td>0</td>\n",
       "      <td>8</td>\n",
       "      <td>3</td>\n",
       "    </tr>\n",
       "    <tr>\n",
       "      <th>949</th>\n",
       "      <td>Bigger Than The Whole Sky</td>\n",
       "      <td>Taylor Swift</td>\n",
       "      <td>1</td>\n",
       "      <td>2022</td>\n",
       "      <td>10</td>\n",
       "      <td>21</td>\n",
       "      <td>1180</td>\n",
       "      <td>0</td>\n",
       "      <td>121871870</td>\n",
       "      <td>4</td>\n",
       "      <td>...</td>\n",
       "      <td>166</td>\n",
       "      <td>F#</td>\n",
       "      <td>Major</td>\n",
       "      <td>42</td>\n",
       "      <td>7</td>\n",
       "      <td>24</td>\n",
       "      <td>83</td>\n",
       "      <td>1</td>\n",
       "      <td>12</td>\n",
       "      <td>6</td>\n",
       "    </tr>\n",
       "    <tr>\n",
       "      <th>950</th>\n",
       "      <td>A Veces (feat. Feid)</td>\n",
       "      <td>Feid, Paulo Londra</td>\n",
       "      <td>2</td>\n",
       "      <td>2022</td>\n",
       "      <td>11</td>\n",
       "      <td>3</td>\n",
       "      <td>573</td>\n",
       "      <td>0</td>\n",
       "      <td>73513683</td>\n",
       "      <td>2</td>\n",
       "      <td>...</td>\n",
       "      <td>92</td>\n",
       "      <td>C#</td>\n",
       "      <td>Major</td>\n",
       "      <td>80</td>\n",
       "      <td>81</td>\n",
       "      <td>67</td>\n",
       "      <td>4</td>\n",
       "      <td>0</td>\n",
       "      <td>8</td>\n",
       "      <td>6</td>\n",
       "    </tr>\n",
       "    <tr>\n",
       "      <th>951</th>\n",
       "      <td>En La De Ella</td>\n",
       "      <td>Feid, Sech, Jhayco</td>\n",
       "      <td>3</td>\n",
       "      <td>2022</td>\n",
       "      <td>10</td>\n",
       "      <td>20</td>\n",
       "      <td>1320</td>\n",
       "      <td>0</td>\n",
       "      <td>133895612</td>\n",
       "      <td>29</td>\n",
       "      <td>...</td>\n",
       "      <td>97</td>\n",
       "      <td>C#</td>\n",
       "      <td>Major</td>\n",
       "      <td>82</td>\n",
       "      <td>67</td>\n",
       "      <td>77</td>\n",
       "      <td>8</td>\n",
       "      <td>0</td>\n",
       "      <td>12</td>\n",
       "      <td>5</td>\n",
       "    </tr>\n",
       "    <tr>\n",
       "      <th>952</th>\n",
       "      <td>Alone</td>\n",
       "      <td>Burna Boy</td>\n",
       "      <td>1</td>\n",
       "      <td>2022</td>\n",
       "      <td>11</td>\n",
       "      <td>4</td>\n",
       "      <td>782</td>\n",
       "      <td>2</td>\n",
       "      <td>96007391</td>\n",
       "      <td>27</td>\n",
       "      <td>...</td>\n",
       "      <td>90</td>\n",
       "      <td>E</td>\n",
       "      <td>Minor</td>\n",
       "      <td>61</td>\n",
       "      <td>32</td>\n",
       "      <td>67</td>\n",
       "      <td>15</td>\n",
       "      <td>0</td>\n",
       "      <td>11</td>\n",
       "      <td>5</td>\n",
       "    </tr>\n",
       "  </tbody>\n",
       "</table>\n",
       "<p>953 rows × 24 columns</p>\n",
       "</div>"
      ],
      "text/plain": [
       "                              track_name      artist(s)_name  artist_count  \\\n",
       "0    Seven (feat. Latto) (Explicit Ver.)    Latto, Jung Kook             2   \n",
       "1                                   LALA         Myke Towers             1   \n",
       "2                                vampire      Olivia Rodrigo             1   \n",
       "3                           Cruel Summer        Taylor Swift             1   \n",
       "4                         WHERE SHE GOES           Bad Bunny             1   \n",
       "..                                   ...                 ...           ...   \n",
       "948                         My Mind & Me        Selena Gomez             1   \n",
       "949            Bigger Than The Whole Sky        Taylor Swift             1   \n",
       "950                 A Veces (feat. Feid)  Feid, Paulo Londra             2   \n",
       "951                        En La De Ella  Feid, Sech, Jhayco             3   \n",
       "952                                Alone           Burna Boy             1   \n",
       "\n",
       "     released_year  released_month  released_day  in_spotify_playlists  \\\n",
       "0             2023               7            14                   553   \n",
       "1             2023               3            23                  1474   \n",
       "2             2023               6            30                  1397   \n",
       "3             2019               8            23                  7858   \n",
       "4             2023               5            18                  3133   \n",
       "..             ...             ...           ...                   ...   \n",
       "948           2022              11             3                   953   \n",
       "949           2022              10            21                  1180   \n",
       "950           2022              11             3                   573   \n",
       "951           2022              10            20                  1320   \n",
       "952           2022              11             4                   782   \n",
       "\n",
       "     in_spotify_charts    streams  in_apple_playlists  ...  bpm key   mode  \\\n",
       "0                  147  141381703                  43  ...  125   B  Major   \n",
       "1                   48  133716286                  48  ...   92  C#  Major   \n",
       "2                  113  140003974                  94  ...  138   F  Major   \n",
       "3                  100  800840817                 116  ...  170   A  Major   \n",
       "4                   50  303236322                  84  ...  144   A  Minor   \n",
       "..                 ...        ...                 ...  ...  ...  ..    ...   \n",
       "948                  0   91473363                  61  ...  144   A  Major   \n",
       "949                  0  121871870                   4  ...  166  F#  Major   \n",
       "950                  0   73513683                   2  ...   92  C#  Major   \n",
       "951                  0  133895612                  29  ...   97  C#  Major   \n",
       "952                  2   96007391                  27  ...   90   E  Minor   \n",
       "\n",
       "    danceability_%  valence_% energy_% acousticness_%  instrumentalness_%  \\\n",
       "0               80         89       83             31                   0   \n",
       "1               71         61       74              7                   0   \n",
       "2               51         32       53             17                   0   \n",
       "3               55         58       72             11                   0   \n",
       "4               65         23       80             14                  63   \n",
       "..             ...        ...      ...            ...                 ...   \n",
       "948             60         24       39             57                   0   \n",
       "949             42          7       24             83                   1   \n",
       "950             80         81       67              4                   0   \n",
       "951             82         67       77              8                   0   \n",
       "952             61         32       67             15                   0   \n",
       "\n",
       "     liveness_%  speechiness_%  \n",
       "0             8              4  \n",
       "1            10              4  \n",
       "2            31              6  \n",
       "3            11             15  \n",
       "4            11              6  \n",
       "..          ...            ...  \n",
       "948           8              3  \n",
       "949          12              6  \n",
       "950           8              6  \n",
       "951          12              5  \n",
       "952          11              5  \n",
       "\n",
       "[953 rows x 24 columns]"
      ]
     },
     "execution_count": 3,
     "metadata": {},
     "output_type": "execute_result"
    }
   ],
   "source": [
    "spotify_data"
   ]
  },
  {
   "cell_type": "code",
   "execution_count": 4,
   "id": "7f0aa991-d553-41fe-b68b-bc218218f244",
   "metadata": {
    "tags": []
   },
   "outputs": [
    {
     "name": "stdout",
     "output_type": "stream",
     "text": [
      "<class 'pandas.core.frame.DataFrame'>\n",
      "RangeIndex: 953 entries, 0 to 952\n",
      "Data columns (total 24 columns):\n",
      " #   Column                Non-Null Count  Dtype \n",
      "---  ------                --------------  ----- \n",
      " 0   track_name            953 non-null    object\n",
      " 1   artist(s)_name        953 non-null    object\n",
      " 2   artist_count          953 non-null    int64 \n",
      " 3   released_year         953 non-null    int64 \n",
      " 4   released_month        953 non-null    int64 \n",
      " 5   released_day          953 non-null    int64 \n",
      " 6   in_spotify_playlists  953 non-null    int64 \n",
      " 7   in_spotify_charts     953 non-null    int64 \n",
      " 8   streams               953 non-null    object\n",
      " 9   in_apple_playlists    953 non-null    int64 \n",
      " 10  in_apple_charts       953 non-null    int64 \n",
      " 11  in_deezer_playlists   953 non-null    object\n",
      " 12  in_deezer_charts      953 non-null    int64 \n",
      " 13  in_shazam_charts      903 non-null    object\n",
      " 14  bpm                   953 non-null    int64 \n",
      " 15  key                   858 non-null    object\n",
      " 16  mode                  953 non-null    object\n",
      " 17  danceability_%        953 non-null    int64 \n",
      " 18  valence_%             953 non-null    int64 \n",
      " 19  energy_%              953 non-null    int64 \n",
      " 20  acousticness_%        953 non-null    int64 \n",
      " 21  instrumentalness_%    953 non-null    int64 \n",
      " 22  liveness_%            953 non-null    int64 \n",
      " 23  speechiness_%         953 non-null    int64 \n",
      "dtypes: int64(17), object(7)\n",
      "memory usage: 178.8+ KB\n"
     ]
    }
   ],
   "source": [
    "spotify_data.info()"
   ]
  },
  {
   "cell_type": "markdown",
   "id": "fb29e53b-a452-40c2-a148-667f887d7a96",
   "metadata": {
    "tags": []
   },
   "source": [
    "From the dataframe info I have gathered that streams is an object. But displayed as an int. So further modifications need to be made to the dataset to convert the values to int."
   ]
  },
  {
   "cell_type": "markdown",
   "id": "8ac2b2c7-c82b-478e-a7a8-94ed124a220b",
   "metadata": {},
   "source": [
    "## Null Check And Data Clean Up"
   ]
  },
  {
   "cell_type": "markdown",
   "id": "659c406c-87e5-42f7-8766-8f06699617e9",
   "metadata": {},
   "source": [
    "Convert streams column to int"
   ]
  },
  {
   "cell_type": "code",
   "execution_count": 5,
   "id": "381b2c7c-d123-4521-aff4-15fe0bfa1ef8",
   "metadata": {
    "tags": []
   },
   "outputs": [
    {
     "name": "stdout",
     "output_type": "stream",
     "text": [
      "track_name               object\n",
      "artist(s)_name           object\n",
      "artist_count              int64\n",
      "released_year             int64\n",
      "released_month            int64\n",
      "released_day              int64\n",
      "in_spotify_playlists      int64\n",
      "in_spotify_charts         int64\n",
      "streams                 float64\n",
      "in_apple_playlists        int64\n",
      "in_apple_charts           int64\n",
      "in_deezer_playlists      object\n",
      "in_deezer_charts          int64\n",
      "in_shazam_charts         object\n",
      "bpm                       int64\n",
      "key                      object\n",
      "mode                     object\n",
      "danceability_%            int64\n",
      "valence_%                 int64\n",
      "energy_%                  int64\n",
      "acousticness_%            int64\n",
      "instrumentalness_%        int64\n",
      "liveness_%                int64\n",
      "speechiness_%             int64\n",
      "dtype: object\n"
     ]
    }
   ],
   "source": [
    "spotify_data['streams'] = pd.to_numeric(spotify_data['streams'], errors='coerce')\n",
    "print(spotify_data.dtypes)"
   ]
  },
  {
   "cell_type": "code",
   "execution_count": 6,
   "id": "fed711f2-7a52-4f86-8d66-e54f9da5910c",
   "metadata": {
    "tags": []
   },
   "outputs": [
    {
     "data": {
      "text/plain": [
       "track_name              False\n",
       "artist(s)_name          False\n",
       "artist_count            False\n",
       "released_year           False\n",
       "released_month          False\n",
       "released_day            False\n",
       "in_spotify_playlists    False\n",
       "in_spotify_charts       False\n",
       "streams                  True\n",
       "in_apple_playlists      False\n",
       "in_apple_charts         False\n",
       "in_deezer_playlists     False\n",
       "in_deezer_charts        False\n",
       "in_shazam_charts         True\n",
       "bpm                     False\n",
       "key                      True\n",
       "mode                    False\n",
       "danceability_%          False\n",
       "valence_%               False\n",
       "energy_%                False\n",
       "acousticness_%          False\n",
       "instrumentalness_%      False\n",
       "liveness_%              False\n",
       "speechiness_%           False\n",
       "dtype: bool"
      ]
     },
     "execution_count": 6,
     "metadata": {},
     "output_type": "execute_result"
    }
   ],
   "source": [
    "pd.isnull(spotify_data).any()"
   ]
  },
  {
   "cell_type": "markdown",
   "id": "255be844-2e34-46d1-8eb3-2f0cb587aca1",
   "metadata": {},
   "source": [
    "In this case there are two columns that have null values that could provide inaccurate data."
   ]
  },
  {
   "cell_type": "markdown",
   "id": "025b32ff-1c22-404c-9a7e-99878472e2b4",
   "metadata": {},
   "source": [
    "### Clean Up"
   ]
  },
  {
   "cell_type": "code",
   "execution_count": 7,
   "id": "b3db6767-8d40-4429-b0a7-aec9fb870116",
   "metadata": {
    "tags": []
   },
   "outputs": [
    {
     "name": "stdout",
     "output_type": "stream",
     "text": [
      "Total number of rows: 816\n"
     ]
    }
   ],
   "source": [
    "df = spotify_data.dropna(how='any',axis=0) \n",
    "total_rows = df.shape[0]  # Extracting the number of rows from the shape attribute\n",
    "\n",
    "print(\"Total number of rows:\", total_rows)"
   ]
  },
  {
   "cell_type": "code",
   "execution_count": 8,
   "id": "64110af3-cf41-442d-9ee5-e9bf15d41c18",
   "metadata": {
    "tags": []
   },
   "outputs": [
    {
     "data": {
      "text/plain": [
       "track_name              False\n",
       "artist(s)_name          False\n",
       "artist_count            False\n",
       "released_year           False\n",
       "released_month          False\n",
       "released_day            False\n",
       "in_spotify_playlists    False\n",
       "in_spotify_charts       False\n",
       "streams                 False\n",
       "in_apple_playlists      False\n",
       "in_apple_charts         False\n",
       "in_deezer_playlists     False\n",
       "in_deezer_charts        False\n",
       "in_shazam_charts        False\n",
       "bpm                     False\n",
       "key                     False\n",
       "mode                    False\n",
       "danceability_%          False\n",
       "valence_%               False\n",
       "energy_%                False\n",
       "acousticness_%          False\n",
       "instrumentalness_%      False\n",
       "liveness_%              False\n",
       "speechiness_%           False\n",
       "dtype: bool"
      ]
     },
     "execution_count": 8,
     "metadata": {},
     "output_type": "execute_result"
    }
   ],
   "source": [
    "pd.isnull(df).any()"
   ]
  },
  {
   "cell_type": "markdown",
   "id": "5491295c-8d42-4439-a571-35f56bb58cd2",
   "metadata": {},
   "source": [
    "## Data Research and Correlations"
   ]
  },
  {
   "cell_type": "markdown",
   "id": "ace1a088-812b-453d-8f9e-d9cdbaf357b7",
   "metadata": {},
   "source": [
    "### Min, Max and Mean values in each column"
   ]
  },
  {
   "cell_type": "code",
   "execution_count": 9,
   "id": "8c96040d-5beb-430a-8e30-e0edbad48e7d",
   "metadata": {
    "tags": []
   },
   "outputs": [
    {
     "data": {
      "text/plain": [
       "track_name              'Till I Collapse\n",
       "artist(s)_name                  (G)I-DLE\n",
       "artist_count                           1\n",
       "released_year                       1930\n",
       "released_month                         1\n",
       "released_day                           1\n",
       "in_spotify_playlists                  31\n",
       "in_spotify_charts                      0\n",
       "streams                           2762.0\n",
       "in_apple_playlists                     0\n",
       "in_apple_charts                        0\n",
       "in_deezer_playlists                    0\n",
       "in_deezer_charts                       0\n",
       "in_shazam_charts                       0\n",
       "bpm                                   65\n",
       "key                                    A\n",
       "mode                               Major\n",
       "danceability_%                        23\n",
       "valence_%                              4\n",
       "energy_%                              14\n",
       "acousticness_%                         0\n",
       "instrumentalness_%                     0\n",
       "liveness_%                             3\n",
       "speechiness_%                          2\n",
       "dtype: object"
      ]
     },
     "execution_count": 9,
     "metadata": {},
     "output_type": "execute_result"
    }
   ],
   "source": [
    "df.min()"
   ]
  },
  {
   "cell_type": "code",
   "execution_count": 10,
   "id": "a152ccba-f2a8-4ad1-98e1-afda0e9bb801",
   "metadata": {
    "tags": []
   },
   "outputs": [
    {
     "data": {
      "text/plain": [
       "track_name              ýýýýýýýýýýýýýýýýýýýýý\n",
       "artist(s)_name                           teto\n",
       "artist_count                                8\n",
       "released_year                            2023\n",
       "released_month                             12\n",
       "released_day                               31\n",
       "in_spotify_playlists                    52898\n",
       "in_spotify_charts                         147\n",
       "streams                          3562543890.0\n",
       "in_apple_playlists                        532\n",
       "in_apple_charts                           275\n",
       "in_deezer_playlists                        99\n",
       "in_deezer_charts                           45\n",
       "in_shazam_charts                           99\n",
       "bpm                                       206\n",
       "key                                        G#\n",
       "mode                                    Minor\n",
       "danceability_%                             96\n",
       "valence_%                                  97\n",
       "energy_%                                   97\n",
       "acousticness_%                             97\n",
       "instrumentalness_%                         91\n",
       "liveness_%                                 97\n",
       "speechiness_%                              64\n",
       "dtype: object"
      ]
     },
     "execution_count": 10,
     "metadata": {},
     "output_type": "execute_result"
    }
   ],
   "source": [
    "df.max()"
   ]
  },
  {
   "cell_type": "code",
   "execution_count": 11,
   "id": "3b99733e-5560-4034-aafe-fd58f1981897",
   "metadata": {
    "tags": []
   },
   "outputs": [
    {
     "data": {
      "text/plain": [
       "artist_count            1.568627e+00\n",
       "released_year           2.018517e+03\n",
       "released_month          6.024510e+00\n",
       "released_day            1.371201e+01\n",
       "in_spotify_playlists    4.852316e+03\n",
       "in_spotify_charts       1.173652e+01\n",
       "streams                 4.689858e+08\n",
       "in_apple_playlists      6.021569e+01\n",
       "in_apple_charts         4.953431e+01\n",
       "in_deezer_charts        2.454657e+00\n",
       "bpm                     1.225809e+02\n",
       "danceability_%          6.740931e+01\n",
       "valence_%               5.117279e+01\n",
       "energy_%                6.435662e+01\n",
       "acousticness_%          2.633333e+01\n",
       "instrumentalness_%      1.678922e+00\n",
       "liveness_%              1.817034e+01\n",
       "speechiness_%           1.053554e+01\n",
       "dtype: float64"
      ]
     },
     "execution_count": 11,
     "metadata": {},
     "output_type": "execute_result"
    }
   ],
   "source": [
    "df.mean(numeric_only=True)"
   ]
  },
  {
   "cell_type": "markdown",
   "id": "b6483205-e4f0-4dd0-8319-2926ab985d86",
   "metadata": {},
   "source": [
    "From here we can gather the scope of the dataset and the reach, any outliers can be discovered (Which will be tested for next). Columns such as years and months can be disregarded as their rows are seen as labels in the context of a model. Of which the time of year wont be a independent value in this test."
   ]
  },
  {
   "cell_type": "markdown",
   "id": "d0082701-fc93-484d-86af-bf4ae6808bbf",
   "metadata": {},
   "source": [
    "### Dependant Variable"
   ]
  },
  {
   "cell_type": "markdown",
   "id": "a1d69dde-1e91-4164-9b3f-3ac0dcfd3fc5",
   "metadata": {},
   "source": [
    "What I want to predict. In this case I want to predict the number of streams you possibly can get."
   ]
  },
  {
   "cell_type": "code",
   "execution_count": 12,
   "id": "1064434c-0155-45d0-a50c-12970b8fbe11",
   "metadata": {
    "tags": []
   },
   "outputs": [],
   "source": [
    "y = DataFrame(df, columns=['streams'])"
   ]
  },
  {
   "cell_type": "markdown",
   "id": "7bf85e12-8cbe-4fbf-82e2-0a2c190fac9f",
   "metadata": {},
   "source": [
    "### Outliers In Stream Column"
   ]
  },
  {
   "cell_type": "code",
   "execution_count": 13,
   "id": "613e6f36-8445-4c6e-807c-73964a7f4176",
   "metadata": {
    "tags": []
   },
   "outputs": [
    {
     "data": {
      "text/html": [
       "<div>\n",
       "<style scoped>\n",
       "    .dataframe tbody tr th:only-of-type {\n",
       "        vertical-align: middle;\n",
       "    }\n",
       "\n",
       "    .dataframe tbody tr th {\n",
       "        vertical-align: top;\n",
       "    }\n",
       "\n",
       "    .dataframe thead th {\n",
       "        text-align: right;\n",
       "    }\n",
       "</style>\n",
       "<table border=\"1\" class=\"dataframe\">\n",
       "  <thead>\n",
       "    <tr style=\"text-align: right;\">\n",
       "      <th></th>\n",
       "      <th>streams</th>\n",
       "    </tr>\n",
       "  </thead>\n",
       "  <tbody>\n",
       "    <tr>\n",
       "      <th>0</th>\n",
       "      <td>141381703.0</td>\n",
       "    </tr>\n",
       "    <tr>\n",
       "      <th>1</th>\n",
       "      <td>133716286.0</td>\n",
       "    </tr>\n",
       "    <tr>\n",
       "      <th>2</th>\n",
       "      <td>140003974.0</td>\n",
       "    </tr>\n",
       "    <tr>\n",
       "      <th>3</th>\n",
       "      <td>800840817.0</td>\n",
       "    </tr>\n",
       "    <tr>\n",
       "      <th>4</th>\n",
       "      <td>303236322.0</td>\n",
       "    </tr>\n",
       "    <tr>\n",
       "      <th>...</th>\n",
       "      <td>...</td>\n",
       "    </tr>\n",
       "    <tr>\n",
       "      <th>948</th>\n",
       "      <td>91473363.0</td>\n",
       "    </tr>\n",
       "    <tr>\n",
       "      <th>949</th>\n",
       "      <td>121871870.0</td>\n",
       "    </tr>\n",
       "    <tr>\n",
       "      <th>950</th>\n",
       "      <td>73513683.0</td>\n",
       "    </tr>\n",
       "    <tr>\n",
       "      <th>951</th>\n",
       "      <td>133895612.0</td>\n",
       "    </tr>\n",
       "    <tr>\n",
       "      <th>952</th>\n",
       "      <td>96007391.0</td>\n",
       "    </tr>\n",
       "  </tbody>\n",
       "</table>\n",
       "<p>816 rows × 1 columns</p>\n",
       "</div>"
      ],
      "text/plain": [
       "         streams\n",
       "0    141381703.0\n",
       "1    133716286.0\n",
       "2    140003974.0\n",
       "3    800840817.0\n",
       "4    303236322.0\n",
       "..           ...\n",
       "948   91473363.0\n",
       "949  121871870.0\n",
       "950   73513683.0\n",
       "951  133895612.0\n",
       "952   96007391.0\n",
       "\n",
       "[816 rows x 1 columns]"
      ]
     },
     "execution_count": 13,
     "metadata": {},
     "output_type": "execute_result"
    }
   ],
   "source": [
    "y"
   ]
  },
  {
   "cell_type": "markdown",
   "id": "dbc4a083-318e-4d50-8b29-39cd3cc7acda",
   "metadata": {},
   "source": [
    "y has a postive skew. The mean is greater than the median. This means that there are some high values pulling the mean in the positive direction. Models usually assume a normal distribution of data for optimal performance. Skewed data might lead to biased models."
   ]
  },
  {
   "cell_type": "code",
   "execution_count": 14,
   "id": "f9adcb85-01ea-4679-b8aa-5bad9ca8e3b5",
   "metadata": {
    "tags": []
   },
   "outputs": [
    {
     "data": {
      "image/png": "[encoded data removed]",
      "text/plain": [
       "<Figure size 640x480 with 1 Axes>"
      ]
     },
     "metadata": {},
     "output_type": "display_data"
    }
   ],
   "source": [
    "plt.hist(y, bins=100, ec='black', color='gray')\n",
    "plt.xlabel(\"Number of streams\")\n",
    "plt.ylabel('Number of instances')\n",
    "plt.title(\"Values multiplied by 1,000,000,000\")\n",
    "plt.show()"
   ]
  },
  {
   "cell_type": "markdown",
   "id": "29cadfee-12cc-40ea-84b4-be488dc52632",
   "metadata": {},
   "source": [
    "We clearly see that the lower 500 000 000 streams has a higher weight causing the skew in the column. "
   ]
  },
  {
   "cell_type": "markdown",
   "id": "2cf773f5-8867-47ac-a5d8-c146fe01d16d",
   "metadata": {},
   "source": [
    "#### Improving skew with log"
   ]
  },
  {
   "cell_type": "markdown",
   "id": "92da2d94-3e9a-4bb9-8cea-682671af8221",
   "metadata": {},
   "source": [
    "A way to normalise the data set would be to use log as Logarithms compress large values more than small values. "
   ]
  },
  {
   "cell_type": "code",
   "execution_count": 15,
   "id": "b49ca8a0-966e-47fb-b19d-e04f48c78d70",
   "metadata": {
    "tags": []
   },
   "outputs": [],
   "source": [
    "y_log = np.log(y)"
   ]
  },
  {
   "cell_type": "code",
   "execution_count": 16,
   "id": "e1bfa820-23ae-4635-81cb-6ae725a1a6f4",
   "metadata": {
    "tags": []
   },
   "outputs": [
    {
     "data": {
      "text/plain": [
       "streams   -1.346345\n",
       "dtype: float64"
      ]
     },
     "execution_count": 16,
     "metadata": {},
     "output_type": "execute_result"
    }
   ],
   "source": [
    "y_log.skew()"
   ]
  },
  {
   "cell_type": "markdown",
   "id": "9991362c-f012-4d40-a774-767f30cd9a3a",
   "metadata": {},
   "source": [
    "The skewness has been improved"
   ]
  },
  {
   "cell_type": "code",
   "execution_count": 17,
   "id": "886eef46-15ef-4239-8ae8-541dc4307499",
   "metadata": {
    "tags": []
   },
   "outputs": [
    {
     "data": {
      "image/png": "[encoded data removed]",
      "text/plain": [
       "<Figure size 640x480 with 1 Axes>"
      ]
     },
     "metadata": {},
     "output_type": "display_data"
    }
   ],
   "source": [
    "plt.hist(y_log, bins=100, ec='black', color='gray')\n",
    "plt.xlabel(\"Number of streams\")\n",
    "plt.ylabel('Number of instances')\n",
    "plt.show()"
   ]
  },
  {
   "cell_type": "markdown",
   "id": "b071fb32-f0c5-47a5-b267-6cb3ef6635ee",
   "metadata": {},
   "source": [
    "### Independant Values"
   ]
  },
  {
   "cell_type": "markdown",
   "id": "9177c58d-b838-4399-aa11-bae22c41b4e1",
   "metadata": {},
   "source": [
    "#### Testing corelations"
   ]
  },
  {
   "cell_type": "markdown",
   "id": "a191c24c-e5fd-4a62-a952-bec8976baa02",
   "metadata": {},
   "source": [
    "For the next test I am selecting a few columns that I think would help predict the total streams and testing the correlation as a Linear Regression dataset"
   ]
  },
  {
   "cell_type": "code",
   "execution_count": 18,
   "id": "5b113884-74b8-4d6c-9a1a-43382632d1a8",
   "metadata": {
    "tags": []
   },
   "outputs": [],
   "source": [
    "x = DataFrame(df, columns=['bpm', 'danceability_%', 'energy_%', 'acousticness_%', 'in_spotify_playlists', 'instrumentalness_%', 'liveness_%', 'speechiness_%'])"
   ]
  },
  {
   "cell_type": "markdown",
   "id": "1b5ac879-9af6-4649-ab48-adeb655510ed",
   "metadata": {},
   "source": [
    "##### Bpm test"
   ]
  },
  {
   "cell_type": "code",
   "execution_count": 19,
   "id": "0c7369f8-832f-448e-b807-c3c435b5869c",
   "metadata": {
    "tags": []
   },
   "outputs": [
    {
     "data": {
      "image/png": "[encoded data removed]",
      "text/plain": [
       "<Figure size 500x500 with 1 Axes>"
      ]
     },
     "metadata": {},
     "output_type": "display_data"
    }
   ],
   "source": [
    "sns.lmplot(x=\"bpm\", y=\"streams\", data=df, scatter_kws={'alpha': 0.6}, line_kws={'color': 'darkred'})\n",
    "plt.show()"
   ]
  },
  {
   "cell_type": "markdown",
   "id": "5d28881b-c7ec-4329-93a1-fe73b51fd9ce",
   "metadata": {},
   "source": [
    "The scatter plot indicates a high scatter indicating a possible low correlation. This could also be because the streams have some outliers in the higher streams above 1000 000 000."
   ]
  },
  {
   "cell_type": "markdown",
   "id": "0722d001-5c9a-47e0-b72b-47243206c1c8",
   "metadata": {},
   "source": [
    "##### Clipping the values to eliminate outliers"
   ]
  },
  {
   "cell_type": "code",
   "execution_count": 20,
   "id": "99a92ddb-0020-4784-8e50-7f2335e7dad3",
   "metadata": {
    "tags": []
   },
   "outputs": [],
   "source": [
    "lower_limit = 0\n",
    "upper_limit = 1000000000\n",
    "\n",
    "new_df = df.copy()\n",
    "\n",
    "# Using .loc to modify the DataFrame\n",
    "new_df['streams'] = new_df['streams'].clip(lower=lower_limit, upper=upper_limit)"
   ]
  },
  {
   "cell_type": "code",
   "execution_count": 21,
   "id": "eb95472f-9932-403d-a419-eddac706f871",
   "metadata": {
    "tags": []
   },
   "outputs": [
    {
     "data": {
      "image/png": "[encoded data removed]",
      "text/plain": [
       "<Figure size 500x500 with 1 Axes>"
      ]
     },
     "metadata": {},
     "output_type": "display_data"
    }
   ],
   "source": [
    "sns.lmplot(x=\"bpm\", y=\"streams\", data=new_df, scatter_kws={'alpha': 0.6}, line_kws={'color': 'darkred'})\n",
    "plt.show()"
   ]
  },
  {
   "cell_type": "code",
   "execution_count": 22,
   "id": "faa837c1-48ed-43b9-8d62-c90e22008b60",
   "metadata": {
    "tags": []
   },
   "outputs": [
    {
     "data": {
      "image/png": "[encoded data removed]",
      "text/plain": [
       "<Figure size 640x480 with 1 Axes>"
      ]
     },
     "metadata": {},
     "output_type": "display_data"
    },
    {
     "name": "stdout",
     "output_type": "stream",
     "text": [
      "0.43122396597614276\n"
     ]
    }
   ],
   "source": [
    "plt.hist(x['bpm'], bins=100, ec='black', color='gray')\n",
    "plt.xlabel(\"Bmp\")\n",
    "plt.ylabel('Number of instances')\n",
    "plt.show()\n",
    "print(x['bpm'].skew())"
   ]
  },
  {
   "cell_type": "markdown",
   "id": "193a1ea7-1840-4282-bd29-d96269b51d69",
   "metadata": {},
   "source": [
    "Bpm has very little correlation"
   ]
  },
  {
   "cell_type": "code",
   "execution_count": 23,
   "id": "f3247d61-e14c-477d-b5cc-1ab9ab20b967",
   "metadata": {},
   "outputs": [],
   "source": [
    "x.drop(columns=['bpm'], inplace=True)"
   ]
  },
  {
   "cell_type": "markdown",
   "id": "bfff8864-1ef7-4794-bd7f-b0e692c48155",
   "metadata": {
    "tags": []
   },
   "source": [
    "##### Heatmap and Pair Plot"
   ]
  },
  {
   "cell_type": "code",
   "execution_count": null,
   "id": "e0aad9e0-5060-470b-9824-c53eb2027c83",
   "metadata": {
    "tags": []
   },
   "outputs": [],
   "source": [
    "testing_df= DataFrame(new_df, columns=['bpm', 'danceability_%', 'valence_%', 'artist_count', 'energy_%', 'acousticness_%', 'instrumentalness_%', 'liveness_%', 'speechiness_%', 'streams'])\n",
    "\n",
    "sns.pairplot(testing_df)\n",
    "plt.show()"
   ]
  },
  {
   "cell_type": "markdown",
   "id": "d10a2e2e-9697-45e6-aba2-fabaeb991e74",
   "metadata": {},
   "source": [
    "The Pair plot located in the final column examines potential relationships with streams. The'shoe shape' represents the linearity indicators that are displayed by speechiness, liveliness, and acousticness. "
   ]
  },
  {
   "cell_type": "code",
   "execution_count": null,
   "id": "9e1cfcf0-d81a-4227-95ac-7a114f405b28",
   "metadata": {
    "tags": []
   },
   "outputs": [],
   "source": [
    "correlation_matrix = spotify_data.corr()\n",
    "\n",
    "# Create a correlation heatmap\n",
    "plt.figure(figsize=(8, 6))  # Adjust the figure size as needed\n",
    "sns.heatmap(correlation_matrix, annot=True, cmap='coolwarm', fmt=\".2f\")\n",
    "plt.title('Correlation Heatmap')\n",
    "plt.show()"
   ]
  },
  {
   "cell_type": "markdown",
   "id": "221a45c9-eec9-4438-b4b0-21f09c5bd07b",
   "metadata": {},
   "source": [
    "#### Results and Changes after correlation testing"
   ]
  },
  {
   "cell_type": "markdown",
   "id": "0aea0ec8-c6a0-4a4d-82da-5f70502ed320",
   "metadata": {},
   "source": [
    "All columns have a stronger negative association on streams, according to the heatmap, but they are also closer to 0, which denotes essentially no correlation. The Danceability column shows potential as a y value, which describes stronger impacts and relationships. For instance, there is a positive linear association with values closer to 1 between talkiness and energy. Since the minus values affect the dependent value as well, they are not ignored."
   ]
  },
  {
   "cell_type": "markdown",
   "id": "89d9e50b-f4da-4295-8b9c-650432642fab",
   "metadata": {},
   "source": [
    "### New Independant and Dependant values"
   ]
  },
  {
   "cell_type": "code",
   "execution_count": null,
   "id": "8432370d-526e-4ffd-975c-ac0c6676b45e",
   "metadata": {
    "tags": []
   },
   "outputs": [],
   "source": [
    "y = DataFrame(new_df, columns=['danceability_%'])\n",
    "\n",
    "# x values were determend by the heatmap. Any columns with a postive correlation higher than 0.15 and columns with any negative correlation lower than -0.15\n",
    "x = DataFrame(new_df, columns=['bpm', 'energy_%', 'acousticness_%', 'in_spotify_playlists', 'speechiness_%', 'valence_%', 'artist_count',])"
   ]
  },
  {
   "cell_type": "markdown",
   "id": "d25475b6-c5a1-410b-a52d-50431a4ec4cd",
   "metadata": {},
   "source": [
    "#### x Skew values"
   ]
  },
  {
   "cell_type": "code",
   "execution_count": null,
   "id": "73800248-63d7-4c2c-aaa5-41493834578d",
   "metadata": {
    "tags": []
   },
   "outputs": [],
   "source": [
    "for column in x.columns:\n",
    "    col_skew = x[column].skew()  # Calculate skewness for the column, dropping NaN values\n",
    "    print(f\"Skewness of '{column}': {col_skew}\")"
   ]
  },
  {
   "cell_type": "code",
   "execution_count": null,
   "id": "a1b90437-22c6-4ee8-b381-611646ffbbde",
   "metadata": {
    "tags": []
   },
   "outputs": [],
   "source": [
    "# bpm, in_spotify_playlists, speechiness_%\", artist_count improve when normalised\n",
    "x_log_test = np.log(x[\"bpm\"])\n",
    "x_log_test.skew()"
   ]
  },
  {
   "cell_type": "markdown",
   "id": "4722d38f-20f4-494a-90d7-bdc55b1f4b9b",
   "metadata": {
    "tags": []
   },
   "source": [
    "#### Applying log to some x columns to normalise them"
   ]
  },
  {
   "cell_type": "code",
   "execution_count": null,
   "id": "7f70330b-bd2d-479a-98e6-17eb6c17ce08",
   "metadata": {
    "tags": []
   },
   "outputs": [],
   "source": [
    "columns_to_log = ['bpm', 'in_spotify_playlists', 'speechiness_%', 'artist_count'] \n",
    "\n",
    "x = x.copy()\n",
    "\n",
    "for col in columns_to_log:\n",
    "    if col in x.columns:\n",
    "        x[col] = np.log1p(x[col])  # Applying log transformation (np.log1p() handles 0 and negative values)\n",
    "    else:\n",
    "        print(f\"Column '{col}' not found in the DataFrame.\")\n",
    "        \n",
    "x"
   ]
  },
  {
   "cell_type": "markdown",
   "id": "b6015308-e08f-4ed1-94aa-27fbb8813f39",
   "metadata": {
    "tags": []
   },
   "source": [
    "## Training Set Up"
   ]
  },
  {
   "cell_type": "markdown",
   "id": "81a46afe-390a-46b0-8796-4ee071759c6d",
   "metadata": {},
   "source": [
    "### Splits and Model Training"
   ]
  },
  {
   "cell_type": "code",
   "execution_count": null,
   "id": "daa02625-3102-480a-90f6-066e8ccc8122",
   "metadata": {
    "tags": []
   },
   "outputs": [],
   "source": [
    "x_train, x_test, y_train, y_test = train_test_split(x, y, test_size=0.2,\n",
    "                                                    random_state=24)"
   ]
  },
  {
   "cell_type": "code",
   "execution_count": null,
   "id": "084f5e42-c5be-4926-9583-5b8ea193e144",
   "metadata": {
    "tags": []
   },
   "outputs": [],
   "source": [
    "regr = LinearRegression()\n",
    "regr.fit(x_train, y_train)"
   ]
  },
  {
   "cell_type": "markdown",
   "id": "2b58ebb4-b79c-4f45-8a80-1bd85a121585",
   "metadata": {},
   "source": [
    "### Coefficients"
   ]
  },
  {
   "cell_type": "code",
   "execution_count": null,
   "id": "085ef27d-11d8-4c7d-928c-b311e0ae82c4",
   "metadata": {
    "tags": []
   },
   "outputs": [],
   "source": [
    "coef_data = regr.coef_.reshape(-1, 1)\n",
    "pd.DataFrame(data=coef_data, index=x_train.columns, columns=['coef'])"
   ]
  },
  {
   "cell_type": "markdown",
   "id": "96efd9ba-1623-4318-a172-ad1c55c560d0",
   "metadata": {},
   "source": [
    "Coefficients indicates the x values impact on the y. In this case acousticness has the largest impact, although negatively."
   ]
  },
  {
   "cell_type": "markdown",
   "id": "aae14902-a521-43e6-9c50-888fd97bc737",
   "metadata": {},
   "source": [
    "### Model Accuracy"
   ]
  },
  {
   "cell_type": "code",
   "execution_count": null,
   "id": "d0c6020c-7d89-4d7f-aa3b-930b4b9fd919",
   "metadata": {
    "tags": []
   },
   "outputs": [],
   "source": [
    "print('Trainng data r-squared:', regr.score(x_train, y_train))\n",
    "print('Test data r-squared:', regr.score(x_test, y_test))"
   ]
  },
  {
   "cell_type": "markdown",
   "id": "6cca9d01-6c30-4d74-8eb2-0cc7759d2aa8",
   "metadata": {},
   "source": [
    "The r squared indicated a perfect fit. Which is great but that could also mean the model might be over fit. Meaning its too complex and fits the training data too closely."
   ]
  },
  {
   "cell_type": "markdown",
   "id": "18e7f314-8313-4bbe-bd6f-c4d299a836ad",
   "metadata": {},
   "source": [
    "## Testing Model Fit (if its overfit)"
   ]
  },
  {
   "cell_type": "code",
   "execution_count": null,
   "id": "21fd44e9-640a-4a29-a32e-547c0b4fd84a",
   "metadata": {
    "tags": []
   },
   "outputs": [],
   "source": [
    "def plot_learning_curve(estimator, X, y):\n",
    "    train_sizes, train_scores, valid_scores = learning_curve(\n",
    "        estimator, X, y, train_sizes=np.linspace(0.1, 1.0, 10),\n",
    "        cv=5, scoring='r2')  # You can use other scoring metrics\n",
    "\n",
    "    train_scores_mean = np.mean(train_scores, axis=1)\n",
    "    train_scores_std = np.std(train_scores, axis=1)\n",
    "    valid_scores_mean = np.mean(valid_scores, axis=1)\n",
    "    valid_scores_std = np.std(valid_scores, axis=1)\n",
    "\n",
    "    plt.figure()\n",
    "    plt.title('Learning Curves')\n",
    "    plt.xlabel(\"Training examples\")\n",
    "    plt.ylabel(\"Score\")\n",
    "\n",
    "    plt.grid()\n",
    "\n",
    "    plt.fill_between(train_sizes, train_scores_mean - train_scores_std,\n",
    "                     train_scores_mean + train_scores_std, alpha=0.1,\n",
    "                     color=\"r\")\n",
    "    plt.fill_between(train_sizes, valid_scores_mean - valid_scores_std,\n",
    "                     valid_scores_mean + valid_scores_std, alpha=0.1, color=\"g\")\n",
    "    plt.plot(train_sizes, train_scores_mean, 'o-', color=\"r\",\n",
    "             label=\"Training score\")\n",
    "    plt.plot(train_sizes, valid_scores_mean, 'o-', color=\"g\",\n",
    "             label=\"Cross-validation score\")\n",
    "\n",
    "    plt.legend(loc=\"best\")\n",
    "    plt.show()\n",
    "\n",
    "# Plot learning curves\n",
    "plot_learning_curve(regr, x_train, y_train)"
   ]
  },
  {
   "cell_type": "markdown",
   "id": "229b62fd-81c0-440a-bde3-e7c20b40334f",
   "metadata": {},
   "source": [
    "Values around 100 in our Training examples indicates variance. High variance models are overly sensitive to fluctuations. This could Indicate that the model is too complex for the number of data provided. I would need more data potentially."
   ]
  },
  {
   "cell_type": "markdown",
   "id": "21843781-e9e4-484e-b423-0ca84b689a54",
   "metadata": {},
   "source": [
    "## Hyperparameters"
   ]
  },
  {
   "cell_type": "markdown",
   "id": "d39d7ae0-65ac-4cd1-857e-2d04b04ff5fe",
   "metadata": {},
   "source": [
    " Random Search randomly samples combinations of hyperparameters, which can save time and computational resources. However, whether Random Search is better than Grid Search depends on your specific problem and dataset."
   ]
  },
  {
   "cell_type": "code",
   "execution_count": null,
   "id": "1a3d78a4-4f2c-4674-b2a5-1b494b3cb0db",
   "metadata": {
    "tags": []
   },
   "outputs": [],
   "source": [
    "param_dist = {\n",
    "    'alpha': np.logspace(-3, 3, 100),  # Range of alpha values to test\n",
    "    'fit_intercept': [True, False],\n",
    "}\n",
    "\n",
    "ridge = Ridge()\n",
    "\n",
    "random_search_model = RandomizedSearchCV(ridge, param_distributions=param_dist, n_iter=200, scoring='neg_mean_absolute_error', cv=5, n_jobs=-1)\n",
    "\n",
    "random_search_model.fit(x_train, y_train)"
   ]
  },
  {
   "cell_type": "markdown",
   "id": "64252154-6678-4742-8258-6ad04aefede1",
   "metadata": {},
   "source": [
    "### Gather the best parameters"
   ]
  },
  {
   "cell_type": "code",
   "execution_count": null,
   "id": "cba0ac26-7a67-41d1-aa43-bb8513aa35c4",
   "metadata": {
    "tags": []
   },
   "outputs": [],
   "source": [
    "best_params = random_search_model.best_params_\n",
    "\n",
    "best_model = random_search_model.best_estimator_\n",
    "\n",
    "y_pred = random_search_model.predict(x_test)\n",
    "y_pred_train = random_search_model.predict(x_train)"
   ]
  },
  {
   "cell_type": "markdown",
   "id": "d2be576b-8c79-419b-96a5-9007f3a00f3f",
   "metadata": {},
   "source": [
    "### Model Evaluation"
   ]
  },
  {
   "cell_type": "code",
   "execution_count": null,
   "id": "e94061fe-4ad2-41aa-b2c9-6c621f988a89",
   "metadata": {
    "tags": []
   },
   "outputs": [],
   "source": [
    "mae = mean_absolute_error(y_test, y_pred)\n",
    "mse = mean_squared_error(y_test, y_pred)\n",
    "r2_test = r2_score(y_test, y_pred)\n",
    "r2_train = r2_score(y_train, y_pred_train)\n",
    "\n",
    "print(f'MAE: {mae}')\n",
    "print(f'MSE: {mse}')\n",
    "print(f'R-squared_Test: {r2_test}')\n",
    "print(f'R-squared_Train: {r2_train}')\n",
    "\n",
    "coefficients = best_model.coef_.reshape(-1, 1)\n",
    "pd.DataFrame(data=coefficients, index=x_train.columns, columns=['coef'])"
   ]
  },
  {
   "cell_type": "markdown",
   "id": "60155893-8f88-433b-9235-34e02e3add31",
   "metadata": {},
   "source": [
    "## Last Notes"
   ]
  },
  {
   "cell_type": "markdown",
   "id": "7eabb95c-ccd7-4f73-914c-19ba86bfd6bf",
   "metadata": {
    "tags": []
   },
   "source": [
    "The end result indicated the model has a accuracy of arround 34% after Hyperparemeters have been implemented which in this case yielded no drastic increase, in this case it might be due to the small dataset size. Initially the x values only consisted of bpm energy_% acousticness_% speechiness_% which gave an accuracy of 11%. By adding more variables that have larger correlations (as tested on heatmap) the accuracy improved. Some of the x columns have also been normalized(log) which yielded a 3% increase. The model can no longer be improved within my skillset, a larger dataset will also be needed. The MAE of approximately 9.97 means that, on average, the predictions of my model are off by around 9.97 units from the actual values (lower is better)."
   ]
  },
  {
   "cell_type": "markdown",
   "id": "9fc4f097-a168-4d4e-80cc-7561c3e33e6d",
   "metadata": {
    "tags": []
   },
   "source": [
    "## Model Export"
   ]
  },
  {
   "cell_type": "code",
   "execution_count": null,
   "id": "f1cc8c64-496e-4cc8-b1d6-e316661a570b",
   "metadata": {
    "tags": []
   },
   "outputs": [],
   "source": [
    "model_filename = \"Spotify_SongDanceability_Predicter.pkl\"\n",
    "\n",
    "joblib.dump(best_model, model_filename)\n",
    "\n",
    "model_info = {\n",
    "    \"model\": best_model,\n",
    "    \"features\": list(x.columns)\n",
    "}\n",
    "\n",
    "joblib.dump(model_info, \"model_info.pkl\")"
   ]
  },
  {
   "cell_type": "markdown",
   "id": "436f1205-a660-410c-ab84-ed39b0fae74c",
   "metadata": {},
   "source": [
    "### Model Test"
   ]
  },
  {
   "cell_type": "code",
   "execution_count": null,
   "id": "747aa2fe-9ee9-4bf5-8048-f0343ee24821",
   "metadata": {
    "tags": []
   },
   "outputs": [],
   "source": [
    "columns_to_log = ['bpm', 'in_spotify_playlists', 'speechiness_%', 'artist_count'] \n",
    "\n",
    "test_data = {\n",
    "    'bpm': np.log(200),\n",
    "    'energy_%': 80,\n",
    "    'acousticness_%': 20,\n",
    "    'in_spotify_playlists': np.log(80),\n",
    "    'speechiness_%': np.log(40),\n",
    "    'valence_%': 40,\n",
    "    'artist_count': np.log(2)\n",
    "}\n",
    "\n",
    "# Create a DataFrame with the input data\n",
    "input_df = pd.DataFrame(test_data, index=[0])\n",
    "\n",
    "\n",
    "# Use the model to make a prediction\n",
    "predicted_stock = best_model.predict(input_df)\n",
    "\n",
    "print(f'Predicted Average Stock: {predicted_stock[0][0]}')"
   ]
  },
  {
   "cell_type": "code",
   "execution_count": null,
   "id": "01b8c572-0074-40ca-bcb1-e703dfc5ff95",
   "metadata": {},
   "outputs": [],
   "source": []
  }
 ],
 "metadata": {
  "kernelspec": {
   "display_name": "Python 3 (ipykernel)",
   "language": "python",
   "name": "python3"
  },
  "language_info": {
   "codemirror_mode": {
    "name": "ipython",
    "version": 3
   },
   "file_extension": ".py",
   "mimetype": "text/x-python",
   "name": "python",
   "nbconvert_exporter": "python",
   "pygments_lexer": "ipython3",
   "version": "3.11.3"
  }
 },
 "nbformat": 4,
 "nbformat_minor": 5
}
